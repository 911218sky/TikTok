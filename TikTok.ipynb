{
 "cells": [
  {
   "cell_type": "code",
   "execution_count": 1,
   "metadata": {},
   "outputs": [
    {
     "name": "stdout",
     "output_type": "stream",
     "text": [
      "selenium is not installed. Installing now...\n",
      "Collecting selenium\n",
      "  Using cached selenium-4.11.2-py3-none-any.whl (7.2 MB)\n",
      "Requirement already satisfied: urllib3[socks]<3,>=1.26 in c:\\users\\sky12\\anaconda3\\lib\\site-packages (from selenium) (1.26.16)\n",
      "Collecting trio~=0.17 (from selenium)\n",
      "  Using cached trio-0.22.2-py3-none-any.whl (400 kB)\n",
      "Collecting trio-websocket~=0.9 (from selenium)\n",
      "  Using cached trio_websocket-0.10.3-py3-none-any.whl (17 kB)\n",
      "Requirement already satisfied: certifi>=2021.10.8 in c:\\users\\sky12\\anaconda3\\lib\\site-packages (from selenium) (2023.5.7)\n",
      "Requirement already satisfied: attrs>=20.1.0 in c:\\users\\sky12\\anaconda3\\lib\\site-packages (from trio~=0.17->selenium) (22.1.0)\n",
      "Requirement already satisfied: sortedcontainers in c:\\users\\sky12\\anaconda3\\lib\\site-packages (from trio~=0.17->selenium) (2.4.0)\n",
      "Requirement already satisfied: idna in c:\\users\\sky12\\anaconda3\\lib\\site-packages (from trio~=0.17->selenium) (3.4)\n",
      "Collecting outcome (from trio~=0.17->selenium)\n",
      "  Using cached outcome-1.2.0-py2.py3-none-any.whl (9.7 kB)\n",
      "Requirement already satisfied: sniffio in c:\\users\\sky12\\anaconda3\\lib\\site-packages (from trio~=0.17->selenium) (1.2.0)\n",
      "Requirement already satisfied: cffi>=1.14 in c:\\users\\sky12\\anaconda3\\lib\\site-packages (from trio~=0.17->selenium) (1.15.1)\n",
      "Collecting exceptiongroup (from trio-websocket~=0.9->selenium)\n",
      "  Using cached exceptiongroup-1.1.3-py3-none-any.whl (14 kB)\n",
      "Collecting wsproto>=0.14 (from trio-websocket~=0.9->selenium)\n",
      "  Using cached wsproto-1.2.0-py3-none-any.whl (24 kB)\n",
      "Requirement already satisfied: PySocks!=1.5.7,<2.0,>=1.5.6 in c:\\users\\sky12\\anaconda3\\lib\\site-packages (from urllib3[socks]<3,>=1.26->selenium) (1.7.1)\n",
      "Requirement already satisfied: pycparser in c:\\users\\sky12\\anaconda3\\lib\\site-packages (from cffi>=1.14->trio~=0.17->selenium) (2.21)\n",
      "Collecting h11<1,>=0.9.0 (from wsproto>=0.14->trio-websocket~=0.9->selenium)\n",
      "  Using cached h11-0.14.0-py3-none-any.whl (58 kB)\n",
      "Installing collected packages: outcome, h11, exceptiongroup, wsproto, trio, trio-websocket, selenium\n",
      "Successfully installed exceptiongroup-1.1.3 h11-0.14.0 outcome-1.2.0 selenium-4.11.2 trio-0.22.2 trio-websocket-0.10.3 wsproto-1.2.0\n",
      "All required libraries are installed.\n"
     ]
    }
   ],
   "source": [
    "try:\n",
    "    from selenium import webdriver\n",
    "except ImportError:\n",
    "    print(\"selenium is not installed. Installing now...\")\n",
    "    !pip install selenium\n",
    "    from selenium import webdriver\n",
    "    \n",
    "try:\n",
    "    from lxml import html\n",
    "except ImportError:\n",
    "    print(\"lxml is not installed. Installing now...\")\n",
    "    !pip install lxml\n",
    "    from lxml import html\n",
    "    \n",
    "try:\n",
    "    from tqdm import tqdm\n",
    "except ImportError:\n",
    "    print(\"tqdm is not installed. Installing now...\")\n",
    "    !pip install tqdm\n",
    "    from tqdm import tqdm\n",
    "\n",
    "try:\n",
    "    import requests\n",
    "except ImportError:\n",
    "    print(\"tqdm is not installed. Installing now...\")\n",
    "    !pip install requests\n",
    "    import requests\n",
    "\n",
    "print(\"All required libraries are installed.\")"
   ]
  },
  {
   "cell_type": "code",
   "execution_count": 2,
   "metadata": {},
   "outputs": [],
   "source": [
    "import time\n",
    "import os\n",
    "import re\n",
    "from collections import OrderedDict\n",
    "from concurrent.futures import ThreadPoolExecutor\n",
    "import concurrent.futures"
   ]
  },
  {
   "cell_type": "code",
   "execution_count": null,
   "metadata": {},
   "outputs": [],
   "source": [
    "# 自己的 cookie\n",
    "cookie = ''"
   ]
  },
  {
   "cell_type": "code",
   "execution_count": 3,
   "metadata": {},
   "outputs": [],
   "source": [
    "# https://www.tiktok.com/@_lx0606__\n",
    "# https://www.tiktok.com/@sooflower_\n",
    "# 填入想要爬取的頁面\n",
    "url = \"https://www.tiktok.com/@boon.ong\"\n",
    "max_threads = 10\n",
    "\n",
    "headers = {\n",
    "    'origin': 'https://www.tiktok.com',\n",
    "    'referer': 'https://www.tiktok.com/',\n",
    "    'user-agent': 'Mozilla/5.0 (Windows NT 10.0; Win64; x64) AppleWebKit/537.36 (KHTML, like Gecko) Chrome/111.0.0.0 Safari/537.36',\n",
    "    'cookie': cookie,\n",
    "}"
   ]
  },
  {
   "cell_type": "code",
   "execution_count": 4,
   "metadata": {},
   "outputs": [],
   "source": [
    "def get_author_information(url,headers):\n",
    "    html_content = requests.get(url,headers).text\n",
    "    tree = html.fromstring(html_content)\n",
    "    author = tree.cssselect(\"div h2\")[0].text_content().replace(\" \", \"\")\n",
    "    authorID = tree.cssselect(\"div h1\")[0].text_content().replace(\" \", \"\")\n",
    "    return author, authorID"
   ]
  },
  {
   "cell_type": "code",
   "execution_count": 5,
   "metadata": {},
   "outputs": [],
   "source": [
    "def get_video_links(url):\n",
    "    links = []\n",
    "    options = webdriver.ChromeOptions()\n",
    "    driver = webdriver.Chrome(options=options)\n",
    "    driver.maximize_window()\n",
    "    driver.get(url)\n",
    "    # 等待一些時間，讓頁面完全加載\n",
    "    while True:\n",
    "        time.sleep(2)\n",
    "        driver.execute_script(\"window.scrollTo(0, document.body.scrollHeight);\")\n",
    "        current_html = driver.page_source\n",
    "        # 等待一些時間，讓下滑後的內容加載\n",
    "        time.sleep(2)\n",
    "        tree = html.fromstring(current_html)\n",
    "        linksElements = tree.cssselect(\".tiktok-16ou6xi-DivTagCardDesc.eih2qak1 a:nth-child(1)\")\n",
    "        for element in linksElements:\n",
    "            href = element.attrib.get(\"href\")\n",
    "            links.append(href)\n",
    "        # 檢查是否可以繼續下滑，如果不行則退出迴圈\n",
    "        previous_height = driver.execute_script(\"return document.body.scrollHeight\")\n",
    "        driver.execute_script(\"window.scrollTo(0, document.body.scrollHeight);\")\n",
    "        time.sleep(2)\n",
    "        current_height = driver.execute_script(\"return document.body.scrollHeight\")\n",
    "        if current_height <= previous_height:\n",
    "            cu = input(\"Do you want to continue ? Y / N\")\n",
    "            if cu.lower() == 'y':\n",
    "                continue\n",
    "            else:\n",
    "                break     \n",
    "    \n",
    "    driver.quit()\n",
    "    \n",
    "    filtered_links = [link for link in links if 'https://www.tiktok.com/' in link]\n",
    "    return list(OrderedDict.fromkeys(filtered_links))\n"
   ]
  },
  {
   "cell_type": "code",
   "execution_count": 6,
   "metadata": {},
   "outputs": [],
   "source": [
    "author, authorID = get_author_information(url,headers)"
   ]
  },
  {
   "cell_type": "code",
   "execution_count": 7,
   "metadata": {},
   "outputs": [
    {
     "name": "stdout",
     "output_type": "stream",
     "text": [
      "資料夾名稱為 분옹♥ 正在幫您建立\n"
     ]
    }
   ],
   "source": [
    "if not os.path.isdir(author):\n",
    "    os.mkdir(author)\n",
    "    print('資料夾名稱為', author, '正在幫您建立')"
   ]
  },
  {
   "cell_type": "code",
   "execution_count": 8,
   "metadata": {},
   "outputs": [],
   "source": [
    "video_links = get_video_links(url)"
   ]
  },
  {
   "cell_type": "code",
   "execution_count": 9,
   "metadata": {},
   "outputs": [],
   "source": [
    "def get_download_link_and_title(url):\n",
    "    try:\n",
    "        html_content = requests.get(url, headers = {\n",
    "            'cookie': cookie,\n",
    "            'user-agent': 'Mozilla/5.0 (Windows NT 10.0; Win64; x64) AppleWebKit/537.36 (KHTML, like Gecko) Chrome/111.0.0.0 Safari/537.36'\n",
    "        }).text\n",
    "        video_title_re = '\"og:description\":\"(.*?)\",\"fb:app_id\"'\n",
    "        video_download_link_re = '{\"url\":\"(.*?)\",\"id\":\"\"}'\n",
    "        video_title = re.findall(video_title_re, html_content)[0]\n",
    "        video_download_link = re.findall(video_download_link_re, html_content)[0]\n",
    "        video_download_link = re.sub(r'\\\\u0026', '&', video_download_link)\n",
    "        video_download_link = re.sub(r'\\\\u002F', '/', video_download_link)\n",
    "        return video_download_link, video_title\n",
    "    except Exception as e:\n",
    "        print(f'出現錯誤: \\n{e}')"
   ]
  },
  {
   "cell_type": "code",
   "execution_count": 10,
   "metadata": {},
   "outputs": [],
   "source": [
    "def sanitize_filename(filename):\n",
    "    sanitized_filename = re.sub(r'[\\/:*?\"<>|]', '_', filename)\n",
    "    max_filename_length = 100 \n",
    "    if len(sanitized_filename) > max_filename_length:\n",
    "        sanitized_filename = sanitized_filename[:max_filename_length]\n",
    "    return sanitized_filename"
   ]
  },
  {
   "cell_type": "code",
   "execution_count": 11,
   "metadata": {},
   "outputs": [],
   "source": [
    "def process_link(url):\n",
    "    try:\n",
    "        download_link, title = get_download_link_and_title(url)\n",
    "        return download_link, title\n",
    "    except Exception as e:\n",
    "        print(f\"Error processing '{url}': {e}\")\n",
    "        return None, None"
   ]
  },
  {
   "cell_type": "code",
   "execution_count": 12,
   "metadata": {},
   "outputs": [],
   "source": [
    "def download_video(url,filename):\n",
    "    try:\n",
    "        vidal = requests.get(url,headers={\n",
    "            'cookie': cookie,\n",
    "            'referer': 'https://www.tiktok.com/',\n",
    "            'user-agent': 'Mozilla/5.0 (Windows NT 10.0; Win64; x64) AppleWebKit/537.36 (KHTML, like Gecko) Chrome/111.0.0.0 Safari/537.36',\n",
    "        }).content\n",
    "        with open(filename, mode='wb') as f:\n",
    "            f.write(vidal)\n",
    "            print(f'已下載完成 :{filename}')\n",
    "    except Exception as e:\n",
    "        print(f\"Error processing '{url}': {e}\")"
   ]
  },
  {
   "cell_type": "code",
   "execution_count": 13,
   "metadata": {},
   "outputs": [
    {
     "name": "stderr",
     "output_type": "stream",
     "text": [
      "Processing videos: 100%|██████████| 139/139 [00:15<00:00,  8.94video/s]\n"
     ]
    }
   ],
   "source": [
    "titles = []\n",
    "download_links = []\n",
    "with ThreadPoolExecutor(max_threads) as executor, tqdm(total=len(video_links), desc=\"Processing videos\", unit=\"video\") as progress:\n",
    "    futures = [executor.submit(process_link, url) for url in video_links]\n",
    "    for future in concurrent.futures.as_completed(futures):\n",
    "        result = future.result()\n",
    "        progress.update(1)\n",
    "        if result[0] is not None:\n",
    "            download_links.append(result[0])\n",
    "        if result[1] is not None:\n",
    "            titles.append(result[1])"
   ]
  },
  {
   "cell_type": "code",
   "execution_count": 14,
   "metadata": {},
   "outputs": [
    {
     "name": "stderr",
     "output_type": "stream",
     "text": [
      "Downloading videos:   1%|          | 1/139 [00:01<02:22,  1.03s/video]"
     ]
    },
    {
     "name": "stdout",
     "output_type": "stream",
     "text": [
      "已下載完成 :분옹♥\\がんばれ！ . . . #boonong #분옹 #분옹♥ #fypシ #GambareGambareSenpai #BEMAX #간바레 #간바레챌린지 .mp4\n"
     ]
    },
    {
     "name": "stderr",
     "output_type": "stream",
     "text": [
      "Downloading videos:   1%|▏         | 2/139 [00:01<01:18,  1.75video/s]"
     ]
    },
    {
     "name": "stdout",
     "output_type": "stream",
     "text": [
      "已下載完成 :분옹♥\\킥 드럼 베이스!!  . . . #boonong #분옹 #분옹♥ #fyp #킥드럼베이스 #댄스챌린지 #challenge #dancechallenge #챌린지 .mp4\n",
      "已下載完成 :분옹♥\\Feeling Good . . . #boonong #분옹 #분옹❤️  #FeelingGood #MichaelBublé #fyp #전신 #전신샷 #outd #스타킹 #검정스타킹 #전.mp4\n"
     ]
    },
    {
     "name": "stderr",
     "output_type": "stream",
     "text": [
      "Downloading videos:   3%|▎         | 4/139 [00:01<00:39,  3.39video/s]"
     ]
    },
    {
     "name": "stdout",
     "output_type": "stream",
     "text": [
      "已下載完成 :분옹♥\\just being honest . . . #boonong #분옹 #분옹♥ #fyp  #LikeGirls feat. #Tyga - #Pleasure P#оригинальныйзву.mp4\n",
      "已下載完成 :분옹♥\\Trend qua chưa zị  . . . #boonong #분옹 #분옹♥ #fyp  #YouAre #JinD #Remix #JayDMuzik #xuhuong #xuhuongti.mp4\n",
      "已下載完成 :분옹♥\\Mộng mơ kia, không giữ lâu . . . #boonong #분옹 #분옹♥ #España #NhữngLờiDốiGian #Remix #LalaTrần #fyp #o.mp4\n"
     ]
    },
    {
     "name": "stderr",
     "output_type": "stream",
     "text": [
      "Downloading videos:   6%|▌         | 8/139 [00:02<00:26,  5.04video/s]"
     ]
    },
    {
     "name": "stdout",
     "output_type": "stream",
     "text": [
      "已下載完成 :분옹♥\\안녕! 난 강백호 여친 🙊 . . . #Boonong #분옹 #분옹❤️ #fyp #ootd #치어리더 #유니폼 #농구복 #슬램덩크 #강백호 #여친룩 .mp4\n",
      "已下載完成 :분옹♥\\Bài hát rất đáng yêu . . . #boonong #분옹 #분옹♥ #fyp  #xuhuong #xuhuongtiktok  #NgõChạm #BigDaddy #Emil.mp4\n"
     ]
    },
    {
     "name": "stderr",
     "output_type": "stream",
     "text": [
      "Downloading videos:   6%|▋         | 9/139 [00:02<00:37,  3.44video/s]"
     ]
    },
    {
     "name": "stdout",
     "output_type": "stream",
     "text": [
      "已下載完成 :분옹♥\\15 minuto de sentada, faço você se iludir . . . #Boonong #분옹 #분옹♥   #NenoNobeat & #MCRica #VemMoreni.mp4\n"
     ]
    },
    {
     "name": "stderr",
     "output_type": "stream",
     "text": [
      "Downloading videos:   7%|▋         | 10/139 [00:03<00:45,  2.84video/s]"
     ]
    },
    {
     "name": "stdout",
     "output_type": "stream",
     "text": [
      "已下載完成 :분옹♥\\방구석 바캉스 🍹 . . . #Boonong #분옹 #분옹♥  #CintaSayaBukanKalengKaleng  #Balon T #SaeeSaripGRasia @kifli_lao.mp4\n",
      "已下載完成 :분옹♥\\☝️ .  .  . #Boonong #분옹 #분옹❤️   #ItIsWhatItIs #jennaraine #fyp .mp4\n"
     ]
    },
    {
     "name": "stderr",
     "output_type": "stream",
     "text": [
      "Downloading videos:   9%|▊         | 12/139 [00:03<00:37,  3.42video/s]"
     ]
    },
    {
     "name": "stdout",
     "output_type": "stream",
     "text": [
      "已下載完成 :분옹♥\\Bubble Gum 👻 .  .  .  #Boonong #분옹 #분옹♥   #fyp #DHENMARKASIS @kuyamagik  #LaffyTaffy x #sinenaaybaby.mp4\n",
      "已下載完成 :분옹♥\\분냥이 분양 받을래_ 🐈‍⬛ .  . . #Boonong #분옹 #분옹❤️  #ネコガネコロンダー #fyp .mp4\n"
     ]
    },
    {
     "name": "stderr",
     "output_type": "stream",
     "text": [
      "Downloading videos:  10%|█         | 14/139 [00:03<00:29,  4.25video/s]"
     ]
    },
    {
     "name": "stdout",
     "output_type": "stream",
     "text": [
      "已下載完成 :분옹♥\\아기 호랑이 분양 받으실분 !!🐯 . . . #Boonong #분옹 #분옹♥  #prrumvsmamase #DjCristianLlontop #goodlooking #donomar .mp4\n"
     ]
    },
    {
     "name": "stderr",
     "output_type": "stream",
     "text": [
      "Downloading videos:  11%|█         | 15/139 [00:04<00:30,  4.12video/s]"
     ]
    },
    {
     "name": "stdout",
     "output_type": "stream",
     "text": [
      "已下載完成 :분옹♥\\🚀 .  .  .  #Boonong #분옹 #분옹♥ #fyp #VamoaBailar #Adrian #Godinez .mp4\n"
     ]
    },
    {
     "name": "stderr",
     "output_type": "stream",
     "text": [
      "Downloading videos:  12%|█▏        | 16/139 [00:04<00:29,  4.24video/s]"
     ]
    },
    {
     "name": "stdout",
     "output_type": "stream",
     "text": [
      "已下載完成 :분옹♥\\다들 휴가 잘다녀와 🏖️ . . . #Boonong #분옹 #분옹♥ #fyp #Dancinglife #Dura #remix #Feat #nattinatasha #beckyg #ba.mp4\n"
     ]
    },
    {
     "name": "stderr",
     "output_type": "stream",
     "text": [
      "Downloading videos:  12%|█▏        | 17/139 [00:04<00:33,  3.63video/s]"
     ]
    },
    {
     "name": "stdout",
     "output_type": "stream",
     "text": [
      "已下載完成 :분옹♥\\Smooth Operator .  .  .  #Boonong #분옹 #분옹❤️  #SmoothOperator #Sade #fyp #enzosmoothoperator #Enzo .mp4\n"
     ]
    },
    {
     "name": "stderr",
     "output_type": "stream",
     "text": [
      "Downloading videos:  13%|█▎        | 18/139 [00:05<00:35,  3.41video/s]"
     ]
    },
    {
     "name": "stdout",
     "output_type": "stream",
     "text": [
      "已下載完成 :분옹♥\\dc_ @tat_106  .  .  .  #Boonong #분옹 #분옹❤️ #fyp  #NhậcCò #SirenBeat #vietnam  #ThereonRemix  #SeaTeam.mp4\n"
     ]
    },
    {
     "name": "stderr",
     "output_type": "stream",
     "text": [
      "Downloading videos:  14%|█▎        | 19/139 [00:05<00:38,  3.11video/s]"
     ]
    },
    {
     "name": "stdout",
     "output_type": "stream",
     "text": [
      "已下載完成 :분옹♥\\뒤태는 처음.. 🙃 .  .  .  #Boonong #분옹 #분옹❤️ #fyp  #뒤태 #뒷모습 #전신 #슬로우등장 .mp4\n"
     ]
    },
    {
     "name": "stderr",
     "output_type": "stream",
     "text": [
      "Downloading videos:  15%|█▌        | 21/139 [00:06<00:33,  3.54video/s]"
     ]
    },
    {
     "name": "stdout",
     "output_type": "stream",
     "text": [
      "已下載完成 :분옹♥\\Boo ha_ Woo ha_ . . . #Boonong #분옹 #분옹♥ #추천 #MissU x #Flip #KuyaMagik #fypシ @kuyamagik.mp4\n",
      "已下載完成 :분옹♥\\냥~🐈‍⬛ . . . #Boonong #분옹 #분옹♥   #fyp #sexy #ootd #가터벨트 .mp4\n"
     ]
    },
    {
     "name": "stderr",
     "output_type": "stream",
     "text": [
      "Downloading videos:  17%|█▋        | 23/139 [00:06<00:21,  5.44video/s]"
     ]
    },
    {
     "name": "stdout",
     "output_type": "stream",
     "text": [
      "已下載完成 :분옹♥\\GATAL GATAL REMIX  .  .  .  #Boonong #분옹 #분옹❤️  #GATALGATALREMIX #ChristianSarmiento #fyp .mp4\n",
      "已下載完成 :분옹♥\\오빠 나 바지사또  .  .  .  #Boonong #분옹 #분옹♥ #fyp #ootd #sexy #핫팬츠 .mp4\n"
     ]
    },
    {
     "name": "stderr",
     "output_type": "stream",
     "text": [
      "Downloading videos:  17%|█▋        | 24/139 [00:06<00:24,  4.65video/s]"
     ]
    },
    {
     "name": "stdout",
     "output_type": "stream",
     "text": [
      "已下載完成 :분옹♥\\Ở Việt Nam có nhiều bài hát hay lắm .  .  .  #Boonong #분옹 #분옹♥ #추천 #fyp #xuhuongtiktok #nathotiktok.mp4\n"
     ]
    },
    {
     "name": "stderr",
     "output_type": "stream",
     "text": [
      "Downloading videos:  19%|█▉        | 27/139 [00:07<00:23,  4.74video/s]"
     ]
    },
    {
     "name": "stdout",
     "output_type": "stream",
     "text": [
      "已下載完成 :분옹♥\\🥀 .  .  .  #Boonong #분옹 #분옹♥ #추천 #fyp #xuhuong #thanhmèo .mp4\n",
      "已下載完成 :분옹♥\\오늘 나 쉬는데 나올사람 👐 .  .  .  #Boonong #분옹 #분옹♥   #fyp #fotyou #sexy #girl #xuhuong.mp4\n",
      "已下載完成 :분옹♥\\YES ORR YESS . . .  #Boonong #분옹 #분옹♥   #fyp #koreangirl #추천 .mp4\n"
     ]
    },
    {
     "name": "stderr",
     "output_type": "stream",
     "text": [
      "Downloading videos:  20%|██        | 28/139 [00:07<00:27,  4.07video/s]"
     ]
    },
    {
     "name": "stdout",
     "output_type": "stream",
     "text": [
      "已下載完成 :분옹♥\\Come here  .  .  .  #Boonong #분옹 #분옹♥   #fyp #fotyou #fotyoupage #fypage  #viral #vlog #ootd #Charm .mp4\n",
      "已下載完成 :분옹♥\\Makeba 👀 .  .  .  #Boonong #분옹 #분옹♥   #fyp #fotyou #fotyoupage #fypage  #viral #vlog #ootd #Makeba #.mp4\n"
     ]
    },
    {
     "name": "stderr",
     "output_type": "stream",
     "text": [
      "Downloading videos:  22%|██▏       | 30/139 [00:07<00:20,  5.22video/s]"
     ]
    },
    {
     "name": "stdout",
     "output_type": "stream",
     "text": [
      "已下載完成 :분옹♥\\#Boonong #분옹 #분옹♥ . . . #fyp #06 #지코 #유레카 .mp4\n"
     ]
    },
    {
     "name": "stderr",
     "output_type": "stream",
     "text": [
      "Downloading videos:  22%|██▏       | 31/139 [00:08<00:24,  4.46video/s]"
     ]
    },
    {
     "name": "stdout",
     "output_type": "stream",
     "text": [
      "已下載完成 :분옹♥\\encubierto 👥 . . .  #Boonong #분옹 #분옹♥   #fyp #fotyou #fotyoupage #fypage  #viral #vlog #ootd #DanzaK.mp4\n"
     ]
    },
    {
     "name": "stderr",
     "output_type": "stream",
     "text": [
      "Downloading videos:  23%|██▎       | 32/139 [00:08<00:23,  4.46video/s]"
     ]
    },
    {
     "name": "stdout",
     "output_type": "stream",
     "text": [
      "已下載完成 :분옹♥\\🦩 .  .  .  #Boonong #분옹 #분옹♥   #fyp #fotyou #fotyoupage #fypage  #viral #vlog #ootd #핫팬츠 #틱톡 #추천 #추천.mp4\n",
      "已下載完成 :분옹♥\\อยากกินกล้วยบวชชี​🍌 .  .  .  #Boonong #분옹 #분옹♥   #fyp #fotyou #fotyoupage #fypage  #viral #vlog #oot.mp4\n"
     ]
    },
    {
     "name": "stderr",
     "output_type": "stream",
     "text": [
      "Downloading videos:  24%|██▍       | 34/139 [00:09<00:30,  3.49video/s]"
     ]
    },
    {
     "name": "stdout",
     "output_type": "stream",
     "text": [
      "已下載完成 :분옹♥\\BarbieWorld 👡  .  .  .  .  #Boonong #분옹 #분옹♥   #fyp #fotyou #fotyoupage #fypage  #viral #vlog #ootd .mp4\n"
     ]
    },
    {
     "name": "stderr",
     "output_type": "stream",
     "text": [
      "Downloading videos:  26%|██▌       | 36/139 [00:09<00:25,  4.00video/s]"
     ]
    },
    {
     "name": "stdout",
     "output_type": "stream",
     "text": [
      "已下載完成 :분옹♥\\#08  .  .  .  #Boonong #분옹 #분옹♥   #fyp #fotyou #fotyoupage #fypage  #viral #vlog #ootd #교복 #비서룩 #오피스.mp4\n",
      "已下載完成 :분옹♥\\분옹♥'s short video with ♬ LA MAMA X RICO RICO X CULO.mp4\n"
     ]
    },
    {
     "name": "stderr",
     "output_type": "stream",
     "text": [
      "Downloading videos:  27%|██▋       | 38/139 [00:09<00:19,  5.27video/s]"
     ]
    },
    {
     "name": "stdout",
     "output_type": "stream",
     "text": [
      "已下載完成 :분옹♥\\Gento .  . . #Boonong #분옹 #분옹♥   #fyp #fotyou #fotyoupage #fypage  #viral #vlog #ootd  #Gento x In l.mp4\n",
      "已下載完成 :분옹♥\\언니야~  .  .  .  #Boonong #분옹 #분옹♥ #八神过来  #DJMuchY #DiễmQuỳnh  #八神神摇 #DJ版 #妖姬 #肖Music  #fyp #fotyou #f.mp4\n",
      "已下載完成 :분옹♥\\COCO CHERRY CAKE 🍒  .  .  #분옹 #분옹♥ #Boonong #fyp  #cococherrycake #queenwasabii #퀸와사비 #코코체리케익 #코코체리케.mp4\n"
     ]
    },
    {
     "name": "stderr",
     "output_type": "stream",
     "text": [
      "Downloading videos:  29%|██▉       | 40/139 [00:10<00:17,  5.64video/s]"
     ]
    },
    {
     "name": "stdout",
     "output_type": "stream",
     "text": [
      "已下載完成 :분옹♥\\울렁울렁!  .  .  .  #Boonong #분옹 #분옹♥   #fyp #fotyou #fotyoupage #fypage  #viral #vlog #ootd #japan  #藤咲.mp4\n"
     ]
    },
    {
     "name": "stderr",
     "output_type": "stream",
     "text": [
      "Downloading videos:  30%|███       | 42/139 [00:10<00:18,  5.17video/s]"
     ]
    },
    {
     "name": "stdout",
     "output_type": "stream",
     "text": [
      "已下載完成 :분옹♥\\빠른버전은 어떤가요_  .  . . #Boonong #분옹 #분옹♥   #fyp #fotyou #fotyoupage #fypage  #viral #vlog #ootd #japan .mp4\n",
      "已下載完成 :분옹♥\\Rompe  .  .  .  #Boonong #분옹 #분옹♥   #fyp #fotyou #fotyoupage #fypage  #viral #vlog #ootd #가터벨트 ₩스타킹 .mp4\n"
     ]
    },
    {
     "name": "stderr",
     "output_type": "stream",
     "text": [
      "Downloading videos:  32%|███▏      | 44/139 [00:11<00:27,  3.40video/s]"
     ]
    },
    {
     "name": "stdout",
     "output_type": "stream",
     "text": [
      "已下載完成 :분옹♥\\Sexy love .  .  .  #Boonong #분옹 #분옹♥   #fyp #fotyou #fotyoupage #fypage  #viral #vlog #ootd #tara #티.mp4\n",
      "已下載完成 :분옹♥\\츄릅👅 .  .  .  #Boonong #분옹 #분옹♥   #fyp #fotyou #fotyoupage #fypage  #viral #vlog #ootd #RubyDoris #啊蝶.mp4\n"
     ]
    },
    {
     "name": "stderr",
     "output_type": "stream",
     "text": [
      "Downloading videos:  32%|███▏      | 45/139 [00:11<00:24,  3.85video/s]"
     ]
    },
    {
     "name": "stdout",
     "output_type": "stream",
     "text": [
      "已下載完成 :분옹♥\\I'm on tonight .  . . #Boonong #분옹 #분옹♥   #fyp #fotyou #fotyoupage #fypage  #viral #vlog #ootd #kpop.mp4\n"
     ]
    },
    {
     "name": "stderr",
     "output_type": "stream",
     "text": [
      "Downloading videos:  34%|███▍      | 47/139 [00:12<00:24,  3.77video/s]"
     ]
    },
    {
     "name": "stdout",
     "output_type": "stream",
     "text": [
      "已下載完成 :분옹♥\\London Bridge .  .  .  #Boonong #분옹 #분옹♥   #fyp #fotyou #fotyoupage #fypage  #viral #vlog #ootd #Lon.mp4\n",
      "已下載完成 :분옹♥\\분옹♥'s short video with ♬ original sound.mp4\n"
     ]
    },
    {
     "name": "stderr",
     "output_type": "stream",
     "text": [
      "Downloading videos:  35%|███▍      | 48/139 [00:12<00:27,  3.25video/s]"
     ]
    },
    {
     "name": "stdout",
     "output_type": "stream",
     "text": [
      "已下載完成 :분옹♥\\#Showmusik .  .  .  #Boonong #분옹 #분옹♥   #fyp #fotyou #fotyoupage #fypage  #viral #vlog #ootd #핫팬츠  #.mp4\n",
      "已下載完成 :분옹♥\\분옹♥'s short video with ♬ 오리지널 사운드 - 뇽뇸.mp4\n"
     ]
    },
    {
     "name": "stderr",
     "output_type": "stream",
     "text": [
      "Downloading videos:  36%|███▌      | 50/139 [00:12<00:19,  4.61video/s]"
     ]
    },
    {
     "name": "stdout",
     "output_type": "stream",
     "text": [
      "已下載完成 :분옹♥\\분옹♥'s short video with ♬ 오리지널 사운드 - 나디아 홍 Nadia Hong.mp4\n"
     ]
    },
    {
     "name": "stderr",
     "output_type": "stream",
     "text": [
      "Downloading videos:  37%|███▋      | 51/139 [00:13<00:19,  4.53video/s]"
     ]
    },
    {
     "name": "stdout",
     "output_type": "stream",
     "text": [
      "已下載完成 :분옹♥\\오빠 달려 붕붕 🛵 .  .  .  #Boonong #분옹 #분옹♥   #fyp #fotyou #fotyoupage #fypage  #viral #vlog #ootd #Supadu.mp4\n"
     ]
    },
    {
     "name": "stderr",
     "output_type": "stream",
     "text": [
      "Downloading videos:  37%|███▋      | 52/139 [00:13<00:20,  4.21video/s]"
     ]
    },
    {
     "name": "stdout",
     "output_type": "stream",
     "text": [
      "已下載完成 :분옹♥\\빠른 버전도 기다려줘 . . . #Boonong #분옹 #분옹♥  #あなたにこの心をハイジャックされた  #音田雅則 #OtodaMasanori #japan #fyp #fotyou #f.mp4\n",
      "已下載完成 :분옹♥\\돌핀팬츠 입어봤어 🐰 .  .  .  #Boonong #분옹 #분옹♥   #fyp #fotyou #fotyoupage #fypage  #viral #vlog #ootd #돌핀팬츠 .mp4\n"
     ]
    },
    {
     "name": "stderr",
     "output_type": "stream",
     "text": [
      "Downloading videos:  39%|███▉      | 54/139 [00:14<00:22,  3.84video/s]"
     ]
    },
    {
     "name": "stdout",
     "output_type": "stream",
     "text": [
      "已下載完成 :분옹♥\\생일 이브!!  .  .  .  #Boonong #분옹 #분옹♥   #fyp #fotyou #fotyoupage #fypage  #viral #vlog #ootd #森崎ウィン  #.mp4\n",
      "已下載完成 :분옹♥\\Hot 💋 . . . #Boonong #분옹 #분옹♥   #fyp #fotyou #fotyoupage #fypage  #viral #vlog #ootd #Beyonce #AMARN.mp4\n",
      "已下載完成 :분옹♥\\I won't be hasty 🙀 .  .  .  #Boonong #분옹 #분옹♥   #fyp #fotyou #fotyoupage #fypage  #viral #vlog #ootd.mp4\n"
     ]
    },
    {
     "name": "stderr",
     "output_type": "stream",
     "text": [
      "Downloading videos:  41%|████      | 57/139 [00:15<00:24,  3.30video/s]"
     ]
    },
    {
     "name": "stdout",
     "output_type": "stream",
     "text": [
      "已下載完成 :분옹♥\\Sugar Sugar  .  .  .  #Boonong #분옹 #분옹♥   #fyp #fotyou #fotyoupage #fypage  #viral #vlog #ootd #Suga.mp4\n",
      "已下載完成 :분옹♥\\오빠  .  .  .  #Boonong #분옹 #분옹♥   #MoneyTrees #KendrickLamar #fyp #fotyou #fotyoupage #fypage  #viral.mp4\n",
      "已下載完成 :분옹♥\\앙 물어버린다  .  .  .  #Boonong #분옹 #분옹♥   #fyp #fotyou #fotyoupage #fypage  #viral #vlog #ootd #교복 #비서룩 .mp4\n",
      "已下載完成 :분옹♥\\DoggyDoggy .  .  .  #Boonong #분옹 #분옹♥   #DoggyDoggy #ElAlfa & #BraulioFogon #fyp #fotyou #fotyoupage.mp4\n"
     ]
    },
    {
     "name": "stderr",
     "output_type": "stream",
     "text": [
      "Downloading videos:  44%|████▍     | 61/139 [00:15<00:15,  4.98video/s]"
     ]
    },
    {
     "name": "stdout",
     "output_type": "stream",
     "text": [
      "已下載完成 :분옹♥\\ShyGuy  . .  .  #Boonong #분옹 #분옹♥   #fyp #fotyou #fotyoupage #fypage  #viral #vlog #ootd #kpop #ShyG.mp4\n"
     ]
    },
    {
     "name": "stderr",
     "output_type": "stream",
     "text": [
      "Downloading videos:  46%|████▌     | 64/139 [00:16<00:16,  4.49video/s]"
     ]
    },
    {
     "name": "stdout",
     "output_type": "stream",
     "text": [
      "已下載完成 :분옹♥\\Boom!!  .  .  .  #Boonong #분옹 #분옹♥   #fyp #fotyou #fotyoupage #fypage  #viral #vlog #ootd #kpop  #bo.mp4\n",
      "已下載完成 :분옹♥\\🐣 .  .  .  #Boonong #분옹 #분옹♥   #fyp #fotyou #fotyoupage #fypage  #viral #vlog #ootd #kpop #bochokoy .mp4\n",
      "已下載完成 :분옹♥\\🙌 .  .  .  #Boonong #분옹 #분옹♥   #fyp #fotyou #fotyoupage #fypage  #viral #vlog #ootd #RubyDoris #틱톡 #.mp4\n"
     ]
    },
    {
     "name": "stderr",
     "output_type": "stream",
     "text": [
      "Downloading videos:  47%|████▋     | 65/139 [00:16<00:15,  4.64video/s]"
     ]
    },
    {
     "name": "stdout",
     "output_type": "stream",
     "text": [
      "已下載完成 :분옹♥\\분옹이 분양받으실분~ .  .  .  #Boonong #분옹 #분옹♥   #fyp #fotyou #fotyoupage #fypage #viral #vlog #ootd  #花園搖 #.mp4\n"
     ]
    },
    {
     "name": "stderr",
     "output_type": "stream",
     "text": [
      "Downloading videos:  48%|████▊     | 67/139 [00:17<00:20,  3.58video/s]"
     ]
    },
    {
     "name": "stdout",
     "output_type": "stream",
     "text": [
      "已下載完成 :분옹♥\\#KenChel .  .  .  #Boonong #분옹 #분옹♥   #fyp #fotyou #fotyoupage #fypage  #viral #vlog #ootd #kpop #틱톡.mp4\n",
      "已下載完成 :분옹♥\\i know u want me .  .  .  #Boonong #분옹 #분옹♥   #fyp #fotyou #fotyoupage #fypage  #viral #vlog #ootd #.mp4\n"
     ]
    },
    {
     "name": "stderr",
     "output_type": "stream",
     "text": [
      "Downloading videos:  49%|████▉     | 68/139 [00:17<00:21,  3.28video/s]"
     ]
    },
    {
     "name": "stdout",
     "output_type": "stream",
     "text": [
      "已下載完成 :분옹♥\\Gold Digger_ .  .  .  #Boonong #분옹 #분옹♥   #golddigger #macarena guymusic #macarenachallenge #KanyeWe.mp4\n",
      "已下載完成 :분옹♥\\돌고래 한국에도 많다~🐬 .  .  .  #Boonong #분옹 #분옹♥   #fyp #fotyou #fotyoupage #fypage  #viral #vlog #ootd #kpo.mp4\n",
      "已下載完成 :분옹♥\\Love Me 😍 .  .  .  #Boonong #분옹 #분옹♥   #fyp #fotyou #fotyoupage #fypage  #viral #vlog #ootd #kpop #I.mp4\n"
     ]
    },
    {
     "name": "stderr",
     "output_type": "stream",
     "text": [
      "Downloading videos:  51%|█████     | 71/139 [00:18<00:15,  4.48video/s]"
     ]
    },
    {
     "name": "stdout",
     "output_type": "stream",
     "text": [
      "已下載完成 :분옹♥\\🥀 .  .  .  #Boonong #분옹 #분옹♥   #fyp #fotyou #fotyoupage #fypage  #viral #vlog #ootd #kpop #korean  #.mp4\n",
      "已下載完成 :분옹♥\\party  .  .  .  #Boonong #분옹 #분옹♥   #fyp #fotyou #fotyoupage #fypage  #viral #vlog #ootd #kpop #dazh.mp4\n",
      "已下載完成 :분옹♥\\#寄り酔い #ダズビー . . . #Boonong #분옹 #분옹♥   #fyp #fotyou #fotyoupage #fypage  #viral #vlog #ootd #kpop #틱톡.mp4\n",
      "已下載完成 :분옹♥\\simple dimple .  .  .  #Boonong #분옹 #분옹♥   #toktoktok #simpledimple #kuyamagik #kuyamagikremix #fyp .mp4\n"
     ]
    },
    {
     "name": "stderr",
     "output_type": "stream",
     "text": [
      "Downloading videos:  54%|█████▍    | 75/139 [00:18<00:09,  6.92video/s]"
     ]
    },
    {
     "name": "stdout",
     "output_type": "stream",
     "text": [
      "已下載完成 :분옹♥\\LondonBridge .  .  .  #Boonong #분옹 #분옹♥   #fyp #fotyou #fotyoupage #fypage  #viral #vlog #ootd #kpop.mp4\n"
     ]
    },
    {
     "name": "stderr",
     "output_type": "stream",
     "text": [
      "Downloading videos:  56%|█████▌    | 78/139 [00:18<00:08,  7.06video/s]"
     ]
    },
    {
     "name": "stdout",
     "output_type": "stream",
     "text": [
      "已下載完成 :분옹♥\\🧸 .  .  .  #Boonong #분옹 #분옹♥   #fyp #fotyou #fotyoupage #fypage  #viral #vlog #ootd #원피스 #틱톡 #추천 #추천.mp4\n",
      "已下載完成 :분옹♥\\담비슈!! 댐비슈!!  .  .  .  #Boonong #분옹 #분옹♥   #fyp #fotyou #fotyoupage #fypage  #viral #vlog #ootd #kpop.mp4\n",
      "已下載完成 :분옹♥\\#takeyoudancing  .  .  .  #Boonong #분옹 #분옹♥   #fyp #fotyou #fotyoupage #fypage  #viral #vlog #ootd #.mp4\n"
     ]
    },
    {
     "name": "stderr",
     "output_type": "stream",
     "text": [
      "Downloading videos:  57%|█████▋    | 79/139 [00:19<00:10,  5.82video/s]"
     ]
    },
    {
     "name": "stdout",
     "output_type": "stream",
     "text": [
      "已下載完成 :분옹♥\\빨게💋 .  .  .  #Boonong #분옹 #분옹♥ #nasty #whosthatgirl #arnel #remix  #fyp #fotyou #fotyoupage #fypage .mp4\n"
     ]
    },
    {
     "name": "stderr",
     "output_type": "stream",
     "text": [
      "Downloading videos:  58%|█████▊    | 80/139 [00:20<00:17,  3.31video/s]"
     ]
    },
    {
     "name": "stdout",
     "output_type": "stream",
     "text": [
      "已下載完成 :분옹♥\\🍒 .  .  .  #Boonong #분옹 #분옹♥   #kitatetapgass #liezy  #fyp #fotyou #fotyoupage #fypage  #viral #vlog.mp4\n"
     ]
    },
    {
     "name": "stderr",
     "output_type": "stream",
     "text": [
      "Downloading videos:  59%|█████▉    | 82/139 [00:20<00:15,  3.80video/s]"
     ]
    },
    {
     "name": "stdout",
     "output_type": "stream",
     "text": [
      "已下載完成 :분옹♥\\🍑 #Boonong #분옹 #분옹♥   #블랙핑크 #마지막처럼 #kpop #rimix  #fyp #fotyou #fotyoupage #fypage  #viral #vlog #oot.mp4\n",
      "已下載完成 :분옹♥\\Flip x Money .  .  .  #Boonong #분옹 #분옹♥   #fyp #fotyou #fotyoupage #fypage  #viral #vlog #ootd #kpop.mp4\n",
      "已下載完成 :분옹♥\\굿밤🌛 .  .  .  #Boonong #분옹 #분옹♥   #fyp #fotyou #fotyoupage #fypage  #viral #vlog #ootd #오피스룩 #틱톡 #추천 .mp4\n"
     ]
    },
    {
     "name": "stderr",
     "output_type": "stream",
     "text": [
      "Downloading videos:  60%|██████    | 84/139 [00:20<00:11,  4.99video/s]"
     ]
    },
    {
     "name": "stdout",
     "output_type": "stream",
     "text": [
      "已下載完成 :분옹♥\\#jonelsagaynoremix🇵🇭 .  .  .   #Boonong #분옹 #분옹♥   #fyp #fotyou #fotyoupage #fypage  #viral #vlog #o.mp4\n",
      "已下載完成 :분옹♥\\아잉  .  .  .  #Boonong #분옹 #분옹♥   #fyp #fotyou #fotyoupage #fypage  #viral #vlog #ootd #핫팬츠 #나시 #틱톡 #.mp4\n"
     ]
    },
    {
     "name": "stderr",
     "output_type": "stream",
     "text": [
      "Downloading videos:  62%|██████▏   | 86/139 [00:21<00:13,  3.89video/s]"
     ]
    },
    {
     "name": "stdout",
     "output_type": "stream",
     "text": [
      "已下載完成 :분옹♥\\모기의 시대가 오고있다 ㅎㄷㄷ.. 🦟 #Boonong #분옹 #분옹♥   #fyp #fotyou #fotyoupage #fypage  #viral #vlog #ootd  #틱톡 #.mp4\n",
      "已下載完成 :분옹♥\\오늘은 쉬는날!! 🤪 .  .  .  #Boonong #분옹 #분옹♥   #fyp #fotyou #fotyoupage #fypage  #viral #vlog #ootd #레깅스 #.mp4\n"
     ]
    },
    {
     "name": "stderr",
     "output_type": "stream",
     "text": [
      "Downloading videos:  63%|██████▎   | 88/139 [00:22<00:15,  3.39video/s]"
     ]
    },
    {
     "name": "stdout",
     "output_type": "stream",
     "text": [
      "已下載完成 :분옹♥\\#모에모에큥 🙀 #Boonong #분옹 #분옹♥   #fyp #fotyou #fotyoupage #fypage  #viral #vlog #ootd #chiwawa #japan   .mp4\n"
     ]
    },
    {
     "name": "stderr",
     "output_type": "stream",
     "text": [
      "Downloading videos:  64%|██████▍   | 89/139 [00:22<00:13,  3.60video/s]"
     ]
    },
    {
     "name": "stdout",
     "output_type": "stream",
     "text": [
      "已下載完成 :분옹♥\\Sexy mi 💋 .  .  .  #Boonong #분옹 #분옹♥  #MiMiMi #bboombboom #remix  #koymusicgroup #thưthor #việtnam #.mp4\n",
      "已下載完成 :분옹♥\\🐣 .  . .  #Boonong #분옹 #분옹♥   #fyp #fotyou #fotyoupage #fypage  #viral #vlog #ootd  #틱톡 #추천 #추천떠라 #추.mp4\n"
     ]
    },
    {
     "name": "stderr",
     "output_type": "stream",
     "text": [
      "Downloading videos:  65%|██████▌   | 91/139 [00:22<00:10,  4.49video/s]"
     ]
    },
    {
     "name": "stdout",
     "output_type": "stream",
     "text": [
      "已下載完成 :분옹♥\\앙 🐰  .  .  .  #Boonong #분옹 #분옹♥   #fyp #fotyou #fotyoupage #fypage  #viral #vlog #ootd #박스티 #kei  #틱.mp4\n"
     ]
    },
    {
     "name": "stderr",
     "output_type": "stream",
     "text": [
      "Downloading videos:  66%|██████▌   | 92/139 [00:22<00:10,  4.35video/s]"
     ]
    },
    {
     "name": "stdout",
     "output_type": "stream",
     "text": [
      "已下載完成 :분옹♥\\#tuesfortusdjlongnhật  .  .  .  #Boonong #분옹 #분옹♥   #fyp #fotyou #fotyoupage #fypage  #viral #vlog #.mp4\n",
      "已下載完成 :분옹♥\\나랑 같이 찍을사람 🖖 #Boonong #분옹 #분옹♥   #fyp #fotyou #fotyoupage #fypage  #viral #vlog #ootd #moneytrees #틱.mp4\n"
     ]
    },
    {
     "name": "stderr",
     "output_type": "stream",
     "text": [
      "Downloading videos:  68%|██████▊   | 94/139 [00:23<00:09,  4.99video/s]"
     ]
    },
    {
     "name": "stdout",
     "output_type": "stream",
     "text": [
      "已下載完成 :분옹♥\\날씨가 빙그레 🌞 #Boonong #분옹 #분옹♥   #fyp #fotyou #fotyoupage #fypage  #viral #vlog #ootd #박스티 #틱톡 #추천 #추천떠.mp4\n"
     ]
    },
    {
     "name": "stderr",
     "output_type": "stream",
     "text": [
      "Downloading videos:  68%|██████▊   | 95/139 [00:23<00:12,  3.42video/s]"
     ]
    },
    {
     "name": "stdout",
     "output_type": "stream",
     "text": [
      "已下載完成 :분옹♥\\#dancingfansusan .  .  .  #Boonong #분옹 #분옹♥   #fyp #fotyou #fotyoupage #fypage  #viral #vlog #OOTD  .mp4\n"
     ]
    },
    {
     "name": "stderr",
     "output_type": "stream",
     "text": [
      "Downloading videos:  69%|██████▉   | 96/139 [00:24<00:14,  3.06video/s]"
     ]
    },
    {
     "name": "stdout",
     "output_type": "stream",
     "text": [
      "已下載完成 :분옹♥\\sou favela🌛 .  .  #Boonong #분옹 #분옹♥   #fyp #fotyou #fotyoupage #fypage  #viral #vlog #ootd #나시 #레깅스 .mp4\n",
      "已下載完成 :분옹♥\\일요일은 짜파게티 먹는날!!  .  .  .  #Boonong #분옹 #분옹♥   #Dance #Geter #BkuCucu #VanTiktok #fyp #fotyou #fotyou.mp4\n"
     ]
    },
    {
     "name": "stderr",
     "output_type": "stream",
     "text": [
      "Downloading videos:  71%|███████   | 99/139 [00:24<00:09,  4.36video/s]"
     ]
    },
    {
     "name": "stdout",
     "output_type": "stream",
     "text": [
      "已下載完成 :분옹♥\\#헌포춤 맞아요_ 🙀 .  .  .  #Boonong #분옹 #분옹♥  #fyp #fotyou #fotyoupage #fypage  #viral #vlog #ootd #레깅스 #나.mp4\n",
      "已下載完成 :분옹♥\\달랑무 🦭 .  .  .  #Boonong #분옹 #분옹♥   #fyp #fotyou #fotyoupage #fypage  #viral #vlog #OOTD #dailamo #달랑.mp4\n"
     ]
    },
    {
     "name": "stderr",
     "output_type": "stream",
     "text": [
      "Downloading videos:  72%|███████▏  | 100/139 [00:24<00:08,  4.45video/s]"
     ]
    },
    {
     "name": "stdout",
     "output_type": "stream",
     "text": [
      "已下載完成 :분옹♥\\내 혈액형은 A형  .  .  .  #nasty #coolforthesummer  #Boonong #분옹 #분옹♥   #fyp #fotyou #fotyoupage #fypage  .mp4\n"
     ]
    },
    {
     "name": "stderr",
     "output_type": "stream",
     "text": [
      "Downloading videos:  73%|███████▎  | 101/139 [00:25<00:08,  4.24video/s]"
     ]
    },
    {
     "name": "stdout",
     "output_type": "stream",
     "text": [
      "已下載完成 :분옹♥\\🥀.  .  .  #brando #Boonong #분옹 #분옹♥   #fyp #fotyou #fotyoupage #fypage  #viral #vlog #OOTD  #틱톡 #추천 .mp4\n",
      "已下載完成 :분옹♥\\Hi~🙀 .  .  .  #Boonong #분옹 #분옹♥   #태국#มองนานๆ #มองนานๆchallenge #fyp #fotyou #fotyoupage #fypage  #v.mp4\n"
     ]
    },
    {
     "name": "stderr",
     "output_type": "stream",
     "text": [
      "Downloading videos:  74%|███████▍  | 103/139 [00:25<00:07,  4.61video/s]"
     ]
    },
    {
     "name": "stdout",
     "output_type": "stream",
     "text": [
      "已下載完成 :분옹♥\\오빠 강남스타일_  .  .  .  #Boonong #분옹 #분옹♥   #fyp #fotyou #fotyoupage #fypage  #viral #vlog #OOTD #쫄티  #틱.mp4\n"
     ]
    },
    {
     "name": "stderr",
     "output_type": "stream",
     "text": [
      "Downloading videos:  75%|███████▍  | 104/139 [00:25<00:07,  4.43video/s]"
     ]
    },
    {
     "name": "stdout",
     "output_type": "stream",
     "text": [
      "已下載完成 :분옹♥\\더 늦기전에 니맘에 안착..🤦 . . . #chase_love_hard #볼빨간사춘기 #Boonong #분옹 #분옹♥   #fyp #fotyou #fotyoupage #fypage.mp4\n",
      "已下載完成 :분옹♥\\짤자🌛 .  .  .  #Boonong #분옹 #분옹♥   #fyp #fotyou #fotyoupage #fypage  #viral #vlog #ootd #레깅스 #나시  #Nas.mp4\n"
     ]
    },
    {
     "name": "stderr",
     "output_type": "stream",
     "text": [
      "Downloading videos:  76%|███████▋  | 106/139 [00:26<00:06,  4.95video/s]"
     ]
    },
    {
     "name": "stdout",
     "output_type": "stream",
     "text": [
      "已下載完成 :분옹♥\\저 맘에 안들죠_  .  .  .  #Boonong #분옹 #분옹♥   #랄랄 #랄랄신곡 #눈네모챌린지 #눈네모댄스챌린지 #squareeyes  #쎈언니챌린지 #스퀘어아이즈  #h.mp4\n"
     ]
    },
    {
     "name": "stderr",
     "output_type": "stream",
     "text": [
      "Downloading videos:  77%|███████▋  | 107/139 [00:26<00:07,  4.24video/s]"
     ]
    },
    {
     "name": "stdout",
     "output_type": "stream",
     "text": [
      "已下載完成 :분옹♥\\#papapa 🐧 .  .  .  #papapachallenge #Boonong #분옹 #분옹♥   #fyp #fotyou #fotyoupage #fypage  #viral #vl.mp4\n",
      "已下載完成 :분옹♥\\여름이 좋아 🌞 . . . #Boonong #분옹 #분옹♥   #nettaiya #ripslyme #fyp #fotyou #fotyoupage #fypage  #viral #vlo.mp4\n",
      "已下載完成 :분옹♥\\#handsomeguy  .  .  .  #Boonong #분옹 #분옹♥   #fyp #fotyou #fotyoupage #fypage  #viral #vlog #ootd #원피스.mp4\n"
     ]
    },
    {
     "name": "stderr",
     "output_type": "stream",
     "text": [
      "Downloading videos:  80%|███████▉  | 111/139 [00:27<00:05,  5.55video/s]"
     ]
    },
    {
     "name": "stdout",
     "output_type": "stream",
     "text": [
      "已下載完成 :분옹♥\\#lovemelikethis  .  .  .  #Boonong #분옹 #분옹♥   #fyp #fotyou #fotyoupage #fypage  #viral #vlog #OOTD #.mp4\n",
      "已下載完成 :분옹♥\\짜파게티먹구 하나더 올리기  .  .  .  #Boonong #분옹 #분옹♥   #fyp #fotyou #fotyoupage #fypage  #viral #vlog #OOTD  #.mp4\n"
     ]
    },
    {
     "name": "stderr",
     "output_type": "stream",
     "text": [
      "Downloading videos:  81%|████████▏ | 113/139 [00:27<00:04,  5.56video/s]"
     ]
    },
    {
     "name": "stdout",
     "output_type": "stream",
     "text": [
      "已下載完成 :분옹♥\\#트월킹 맞죠...._ . .  .  #Boonong #분옹 #분옹♥   #fyp #fotyou #fotyoupage #fypage  #viral #vlog #OOTD #핫팬츠 #.mp4\n",
      "已下載完成 :분옹♥\\어린이날 🐰 .  .  .  #Boonong #분옹 #분옹♥   #fyp #fotyou #fotyoupage #fypage  #viral #vlog #OOTD #stanskz  #.mp4\n",
      "已下載完成 :분옹♥\\내 mbti 는 infp 🪅 .  .  .  #Boonong #분옹 #분옹♥   #fyp #fotyou #fotyoupage #fypage  #viral #vlog #OOTD  #.mp4\n"
     ]
    },
    {
     "name": "stderr",
     "output_type": "stream",
     "text": [
      "Downloading videos:  83%|████████▎ | 116/139 [00:27<00:02,  8.36video/s]"
     ]
    },
    {
     "name": "stdout",
     "output_type": "stream",
     "text": [
      "已下載完成 :분옹♥\\#doubletake  .  .  .  #Boonong #분옹 #분옹♥   #fyp #fotyou #fotyoupage #viral  #vlog #OOTD #레이스 #틱톡 #추천 .mp4\n",
      "已下載完成 :분옹♥\\바니~ 🐰 #Boonong #분옹♥   #fyp #fotyou #fotyoupage #viral  #vlog #OOTD #청반바지 #레이스  #틱톡 #추천 #추천떠라 #추천떠라얍 .mp4\n"
     ]
    },
    {
     "name": "stderr",
     "output_type": "stream",
     "text": [
      "Downloading videos:  85%|████████▍ | 118/139 [00:28<00:03,  5.31video/s]"
     ]
    },
    {
     "name": "stdout",
     "output_type": "stream",
     "text": [
      "已下載完成 :분옹♥\\#มองนานๆ 🤞 #มองนานๆchallenge #Thailand #태국 #Boonong #분옹♥   #fyp #fotyou #fotyoupage #viral  #vlog #O.mp4\n",
      "已下載完成 :분옹♥\\브라우니 2탄!!✌️ #ブラウニー #和ぬか  #Boonong #분옹♥   #fyp #fotyou #fotyoupage #viral  #vlog #OOTD #japan #일본   #.mp4\n"
     ]
    },
    {
     "name": "stderr",
     "output_type": "stream",
     "text": [
      "Downloading videos:  86%|████████▌ | 119/139 [00:28<00:03,  5.25video/s]"
     ]
    },
    {
     "name": "stdout",
     "output_type": "stream",
     "text": [
      "已下載完成 :분옹♥\\제 주량은요... 소주 반잔입니다 🙊 #burningfridaynight #일본 #japan #Boonong #분옹 #분옹♥   #fyp #fotyou #fotyoupage #vi.mp4\n",
      "已下載完成 :분옹♥\\너 오늘부터 내 남자친구야 😛 .  .  .  #Boonong #분옹 #분옹♥   #fyp #fotyou #fotyoupage #viral  #vlog #OOTD  #틱톡 #추천 .mp4\n"
     ]
    },
    {
     "name": "stderr",
     "output_type": "stream",
     "text": [
      "Downloading videos:  87%|████████▋ | 121/139 [00:28<00:03,  5.37video/s]"
     ]
    },
    {
     "name": "stdout",
     "output_type": "stream",
     "text": [
      "已下載完成 :분옹♥\\👐 #Boonong #분옹♥   #fyp #fotyou #fotyoupage #viral  #vlog #OOTD #레이스 #나시 #치마   #틱톡 #추천 #추천떠라 #추천떠라얍 #.mp4\n",
      "已下載完成 :분옹♥\\우~ 🦭 .  .  .  #Boonong #분옹♥   #fyp #fotyou #fotyoupage #viral  #vlog #OOTD   #틱톡 #추천 #추천떠라 #추천떠라얍 #귀.mp4\n"
     ]
    },
    {
     "name": "stderr",
     "output_type": "stream",
     "text": [
      "Downloading videos:  89%|████████▉ | 124/139 [00:29<00:02,  5.60video/s]"
     ]
    },
    {
     "name": "stdout",
     "output_type": "stream",
     "text": [
      "已下載完成 :분옹♥\\5초만 봐주실 수 있어요_ 🐣 #Boonong #분옹♥   #fyp #fotyou #fotyoupage #viral  #vlog #OOTD #꽃무늬 #레이스   #틱톡 #추천 #추.mp4\n",
      "已下載完成 :분옹♥\\이런 #의상 어때_ 😘 #Boonong #분옹♥   #fyp #fotyou #fotyoupage #viral  #vlog #OOTD #데이트룩 #여친룩  #틱톡 #추천 #추천떠라 .mp4\n"
     ]
    },
    {
     "name": "stderr",
     "output_type": "stream",
     "text": [
      "Downloading videos:  90%|████████▉ | 125/139 [00:29<00:02,  5.80video/s]"
     ]
    },
    {
     "name": "stdout",
     "output_type": "stream",
     "text": [
      "已下載完成 :분옹♥\\..🤹.. 고고고!!!!  #Boonong #분옹♥   #fyp #fotyou #fotyoupage #viral  #vlog #OOTD #탑 #핫팬츠   #틱톡 #추천 #추천떠라 .mp4\n",
      "已下載完成 :분옹♥\\#obsessed  with you 🐹 .  .  .  #Boonong #분옹♥   #fyp #fotyou #fotyoupage #viral  #vlog #OOTD   #틱톡 #추.mp4\n",
      "已下載完成 :분옹♥\\오프숄더 좋아해.._  .  .  .  #Boonong #분옹♥  #fyp #fotyou #fotyoupage #viral  #vlog #OOTD #오프숄더 #틱톡 #추천 #추천떠.mp4\n"
     ]
    },
    {
     "name": "stderr",
     "output_type": "stream",
     "text": [
      "Downloading videos:  92%|█████████▏| 128/139 [00:29<00:01,  7.59video/s]"
     ]
    },
    {
     "name": "stdout",
     "output_type": "stream",
     "text": [
      "已下載完成 :분옹♥\\나랑 놀러갈래_ 🎠 #Boonong #분옹♥   #fyp #fotyou #fotyoupage #viral  #vlog #OOTD #데이트룩  #틱톡 #추천 #추천떠라 #추천떠라얍 .mp4\n",
      "已下載完成 :분옹♥\\내 딸....__ 😳 ..  .  .  .  #Boonong #분옹♥ #베이비듀엣  #fyp #fotyou #fotyoupage #viral  #vlog #OOTD #japan  .mp4\n"
     ]
    },
    {
     "name": "stderr",
     "output_type": "stream",
     "text": [
      "Downloading videos:  94%|█████████▎| 130/139 [00:30<00:01,  4.95video/s]"
     ]
    },
    {
     "name": "stdout",
     "output_type": "stream",
     "text": [
      "已下載完成 :분옹♥\\#Oops !! 가려운건 못참지 🙄  #Boonong #분옹♥   #fyp #fotyou #fotyoupage #viral  #vlog #OOTD #레깅스  #틱톡 #추천 #추천떠.mp4\n"
     ]
    },
    {
     "name": "stderr",
     "output_type": "stream",
     "text": [
      "Downloading videos:  94%|█████████▍| 131/139 [00:30<00:02,  3.96video/s]"
     ]
    },
    {
     "name": "stdout",
     "output_type": "stream",
     "text": [
      "已下載完成 :분옹♥\\#japan 🐹 .  . . #Boonong #분옹♥   #fyp #fotyou #fotyoupage #viral  #vlog #OOTD #레깅스   #틱톡 #추천 #추천떠라 #추.mp4\n"
     ]
    },
    {
     "name": "stderr",
     "output_type": "stream",
     "text": [
      "Downloading videos:  96%|█████████▋| 134/139 [00:31<00:00,  5.02video/s]"
     ]
    },
    {
     "name": "stdout",
     "output_type": "stream",
     "text": [
      "已下載完成 :분옹♥\\🦭 #Boonong #분옹♥   #fyp #fotyou #fotyoupage #viral  #vlog #OOTD #레깅스   #틱톡 #추천 #추천떠라 #추천떠라얍 #귀여운 #애교 .mp4\n",
      "已下載完成 :분옹♥\\#cureforme 🤧  .  .  .  #Boonong #분옹♥   #fyp #fotyou #fotyoupage #viral  #vlog #OOTD #레깅스  #틱톡 #추천 #추.mp4\n",
      "已下載完成 :분옹♥\\내 주사는.... 있어요 그런게 🙈  . . . #burningfridaynight 🍻 #Boonong #분옹♥     #fyp #fotyou #fotyoupage #viral  .mp4\n",
      "已下載完成 :분옹♥\\빵야 빵야 🔫  .  .  .  #Boonong #분옹♥   #fyp #fotyou #fotyoupage #viral  #vlog #OOTD #japen  #틱톡 #추천 #추천떠라.mp4\n"
     ]
    },
    {
     "name": "stderr",
     "output_type": "stream",
     "text": [
      "Downloading videos:  98%|█████████▊| 136/139 [00:31<00:00,  5.56video/s]"
     ]
    },
    {
     "name": "stdout",
     "output_type": "stream",
     "text": [
      "已下載完成 :분옹♥\\🥀 .  .  .  #Boonong #분옹♥   #fyp #fotyou #fotyoupage #viral  #vlog #OOTD #việtnam  #틱톡 #추천 #추천떠라 #추천떠.mp4\n"
     ]
    },
    {
     "name": "stderr",
     "output_type": "stream",
     "text": [
      "Downloading videos:  99%|█████████▊| 137/139 [00:32<00:00,  4.00video/s]"
     ]
    },
    {
     "name": "stdout",
     "output_type": "stream",
     "text": [
      "已下載完成 :분옹♥\\누나도 네모춤 가능!! 🙃..._  .  .  .  #Boonong #분옹♥   #fyp #fotyou #fotyoupage #viral  #vlog #OOTD    #틱톡 #추천.mp4\n"
     ]
    },
    {
     "name": "stderr",
     "output_type": "stream",
     "text": [
      "Downloading videos:  99%|█████████▉| 138/139 [00:32<00:00,  3.86video/s]"
     ]
    },
    {
     "name": "stdout",
     "output_type": "stream",
     "text": [
      "已下載完成 :분옹♥\\안돼!! 🤨  .  .  .  #Boonong #분옹♥   #fyp #fotyou #fotyoupage #viral  #vlog #OOTD #japan  #だめ(다메) #다메 #다.mp4\n"
     ]
    },
    {
     "name": "stderr",
     "output_type": "stream",
     "text": [
      "Downloading videos: 100%|██████████| 139/139 [00:32<00:00,  4.24video/s]"
     ]
    },
    {
     "name": "stdout",
     "output_type": "stream",
     "text": [
      "已下載完成 :분옹♥\\귀여워 해줘 😘 #Boonong #분옹♥   #fyp #fotyou #fotyoupage #viral  #vlog #OOTD #이모지카메라 #틱톡 #추천 #추천떠라 #추천떠라얍  .mp4\n"
     ]
    },
    {
     "name": "stderr",
     "output_type": "stream",
     "text": [
      "\n"
     ]
    }
   ],
   "source": [
    "with ThreadPoolExecutor(max_threads) as executor, tqdm(total=len(download_links), desc=\"Downloading videos\", unit=\"video\") as progress:\n",
    "    download_args = zip(download_links, titles)\n",
    "    futures = [executor.submit(download_video, link, f'{author}\\\\{sanitize_filename(title)}.mp4') for link, title in download_args]\n",
    "    for future in concurrent.futures.as_completed(futures):\n",
    "        progress.update(1)"
   ]
  },
  {
   "cell_type": "markdown",
   "metadata": {},
   "source": [
    "影片合併"
   ]
  },
  {
   "cell_type": "code",
   "execution_count": 15,
   "metadata": {},
   "outputs": [],
   "source": [
    "import subprocess\n",
    "import os"
   ]
  },
  {
   "cell_type": "code",
   "execution_count": 16,
   "metadata": {},
   "outputs": [],
   "source": [
    "current_directory = os.getcwd()\n",
    "video_dir = f'./{author}'\n",
    "videolist_file = os.path.join(current_directory, \"videolist.txt\")\n",
    "output_file = os.path.join(current_directory, f'./{author}.mp4')\n",
    "extension = \".mp4\""
   ]
  },
  {
   "cell_type": "code",
   "execution_count": 17,
   "metadata": {},
   "outputs": [],
   "source": [
    "video_files = [file for file in os.listdir(video_dir) if file.endswith(extension)]\n",
    "\n",
    "videolist_contents = \"\\n\".join([f\"file '{os.path.join(video_dir, file)}'\" for file in video_files])\n",
    "\n",
    "with open(videolist_file, \"w\", encoding=\"utf-8\") as f:\n",
    "    f.write(videolist_contents)"
   ]
  },
  {
   "cell_type": "code",
   "execution_count": 18,
   "metadata": {},
   "outputs": [
    {
     "name": "stdout",
     "output_type": "stream",
     "text": [
      "Video merged successfully.\n",
      "Deleted c:\\code\\pythone\\國際板抖音爬蟲\\videolist.txt\n"
     ]
    }
   ],
   "source": [
    "ffmpeg_command = [\n",
    "    \"ffmpeg\",\n",
    "    \"-f\", \"concat\",\n",
    "    \"-safe\", \"0\",\n",
    "    \"-i\", videolist_file,\n",
    "    \"-c\", \"copy\",\n",
    "    output_file\n",
    "]\n",
    "\n",
    "try:\n",
    "    subprocess.run(ffmpeg_command, stdout=subprocess.PIPE, stderr=subprocess.PIPE, check=True, text=True, encoding='utf-8')\n",
    "    print(\"Video merged successfully.\")\n",
    "except subprocess.CalledProcessError as e:\n",
    "    print(f\"Error merging videos: {e.stderr}\")\n",
    "\n",
    "# 合并完成后删除 videolist_file\n",
    "try:\n",
    "    os.remove(videolist_file)\n",
    "    print(f\"Deleted {videolist_file}\")\n",
    "except Exception as e:\n",
    "    print(f\"Error deleting {videolist_file}: {e}\")\n",
    "    \n",
    "# 轉 python \n",
    "# pip install jupyter\n",
    "# pip install nbconvert\n",
    "# python -m nbconvert --to script TikTok.ipynb"
   ]
  }
 ],
 "metadata": {
  "kernelspec": {
   "display_name": "Python 3",
   "language": "python",
   "name": "python3"
  },
  "language_info": {
   "codemirror_mode": {
    "name": "ipython",
    "version": 3
   },
   "file_extension": ".py",
   "mimetype": "text/x-python",
   "name": "python",
   "nbconvert_exporter": "python",
   "pygments_lexer": "ipython3",
   "version": "3.11.3"
  },
  "orig_nbformat": 4
 },
 "nbformat": 4,
 "nbformat_minor": 2
}
